{
 "cells": [
  {
   "cell_type": "code",
   "execution_count": 2,
   "id": "f75fef82-9427-4c2e-9aa8-067ef433f197",
   "metadata": {},
   "outputs": [],
   "source": [
    "import pandas as pd"
   ]
  },
  {
   "cell_type": "code",
   "execution_count": 5,
   "id": "0a2c7981-c55c-4459-8fe7-7041f2e9cc97",
   "metadata": {},
   "outputs": [],
   "source": [
    "df = pd.read_csv(\"Dataset/Training.csv\")"
   ]
  },
  {
   "cell_type": "code",
   "execution_count": 6,
   "id": "80e020c4-16df-4e50-846e-cd021d5fe71d",
   "metadata": {},
   "outputs": [
    {
     "data": {
      "text/html": [
       "<div>\n",
       "<style scoped>\n",
       "    .dataframe tbody tr th:only-of-type {\n",
       "        vertical-align: middle;\n",
       "    }\n",
       "\n",
       "    .dataframe tbody tr th {\n",
       "        vertical-align: top;\n",
       "    }\n",
       "\n",
       "    .dataframe thead th {\n",
       "        text-align: right;\n",
       "    }\n",
       "</style>\n",
       "<table border=\"1\" class=\"dataframe\">\n",
       "  <thead>\n",
       "    <tr style=\"text-align: right;\">\n",
       "      <th></th>\n",
       "      <th>itching</th>\n",
       "      <th>skin_rash</th>\n",
       "      <th>nodal_skin_eruptions</th>\n",
       "      <th>continuous_sneezing</th>\n",
       "      <th>shivering</th>\n",
       "      <th>chills</th>\n",
       "      <th>joint_pain</th>\n",
       "      <th>stomach_pain</th>\n",
       "      <th>acidity</th>\n",
       "      <th>ulcers_on_tongue</th>\n",
       "      <th>...</th>\n",
       "      <th>blackheads</th>\n",
       "      <th>scurring</th>\n",
       "      <th>skin_peeling</th>\n",
       "      <th>silver_like_dusting</th>\n",
       "      <th>small_dents_in_nails</th>\n",
       "      <th>inflammatory_nails</th>\n",
       "      <th>blister</th>\n",
       "      <th>red_sore_around_nose</th>\n",
       "      <th>yellow_crust_ooze</th>\n",
       "      <th>prognosis</th>\n",
       "    </tr>\n",
       "  </thead>\n",
       "  <tbody>\n",
       "    <tr>\n",
       "      <th>0</th>\n",
       "      <td>1</td>\n",
       "      <td>1</td>\n",
       "      <td>1</td>\n",
       "      <td>0</td>\n",
       "      <td>0</td>\n",
       "      <td>0</td>\n",
       "      <td>0</td>\n",
       "      <td>0</td>\n",
       "      <td>0</td>\n",
       "      <td>0</td>\n",
       "      <td>...</td>\n",
       "      <td>0</td>\n",
       "      <td>0</td>\n",
       "      <td>0</td>\n",
       "      <td>0</td>\n",
       "      <td>0</td>\n",
       "      <td>0</td>\n",
       "      <td>0</td>\n",
       "      <td>0</td>\n",
       "      <td>0</td>\n",
       "      <td>Fungal infection</td>\n",
       "    </tr>\n",
       "    <tr>\n",
       "      <th>1</th>\n",
       "      <td>0</td>\n",
       "      <td>1</td>\n",
       "      <td>1</td>\n",
       "      <td>0</td>\n",
       "      <td>0</td>\n",
       "      <td>0</td>\n",
       "      <td>0</td>\n",
       "      <td>0</td>\n",
       "      <td>0</td>\n",
       "      <td>0</td>\n",
       "      <td>...</td>\n",
       "      <td>0</td>\n",
       "      <td>0</td>\n",
       "      <td>0</td>\n",
       "      <td>0</td>\n",
       "      <td>0</td>\n",
       "      <td>0</td>\n",
       "      <td>0</td>\n",
       "      <td>0</td>\n",
       "      <td>0</td>\n",
       "      <td>Fungal infection</td>\n",
       "    </tr>\n",
       "    <tr>\n",
       "      <th>2</th>\n",
       "      <td>1</td>\n",
       "      <td>0</td>\n",
       "      <td>1</td>\n",
       "      <td>0</td>\n",
       "      <td>0</td>\n",
       "      <td>0</td>\n",
       "      <td>0</td>\n",
       "      <td>0</td>\n",
       "      <td>0</td>\n",
       "      <td>0</td>\n",
       "      <td>...</td>\n",
       "      <td>0</td>\n",
       "      <td>0</td>\n",
       "      <td>0</td>\n",
       "      <td>0</td>\n",
       "      <td>0</td>\n",
       "      <td>0</td>\n",
       "      <td>0</td>\n",
       "      <td>0</td>\n",
       "      <td>0</td>\n",
       "      <td>Fungal infection</td>\n",
       "    </tr>\n",
       "    <tr>\n",
       "      <th>3</th>\n",
       "      <td>1</td>\n",
       "      <td>1</td>\n",
       "      <td>0</td>\n",
       "      <td>0</td>\n",
       "      <td>0</td>\n",
       "      <td>0</td>\n",
       "      <td>0</td>\n",
       "      <td>0</td>\n",
       "      <td>0</td>\n",
       "      <td>0</td>\n",
       "      <td>...</td>\n",
       "      <td>0</td>\n",
       "      <td>0</td>\n",
       "      <td>0</td>\n",
       "      <td>0</td>\n",
       "      <td>0</td>\n",
       "      <td>0</td>\n",
       "      <td>0</td>\n",
       "      <td>0</td>\n",
       "      <td>0</td>\n",
       "      <td>Fungal infection</td>\n",
       "    </tr>\n",
       "    <tr>\n",
       "      <th>4</th>\n",
       "      <td>1</td>\n",
       "      <td>1</td>\n",
       "      <td>1</td>\n",
       "      <td>0</td>\n",
       "      <td>0</td>\n",
       "      <td>0</td>\n",
       "      <td>0</td>\n",
       "      <td>0</td>\n",
       "      <td>0</td>\n",
       "      <td>0</td>\n",
       "      <td>...</td>\n",
       "      <td>0</td>\n",
       "      <td>0</td>\n",
       "      <td>0</td>\n",
       "      <td>0</td>\n",
       "      <td>0</td>\n",
       "      <td>0</td>\n",
       "      <td>0</td>\n",
       "      <td>0</td>\n",
       "      <td>0</td>\n",
       "      <td>Fungal infection</td>\n",
       "    </tr>\n",
       "  </tbody>\n",
       "</table>\n",
       "<p>5 rows × 133 columns</p>\n",
       "</div>"
      ],
      "text/plain": [
       "   itching  skin_rash  nodal_skin_eruptions  continuous_sneezing  shivering  \\\n",
       "0        1          1                     1                    0          0   \n",
       "1        0          1                     1                    0          0   \n",
       "2        1          0                     1                    0          0   \n",
       "3        1          1                     0                    0          0   \n",
       "4        1          1                     1                    0          0   \n",
       "\n",
       "   chills  joint_pain  stomach_pain  acidity  ulcers_on_tongue  ...  \\\n",
       "0       0           0             0        0                 0  ...   \n",
       "1       0           0             0        0                 0  ...   \n",
       "2       0           0             0        0                 0  ...   \n",
       "3       0           0             0        0                 0  ...   \n",
       "4       0           0             0        0                 0  ...   \n",
       "\n",
       "   blackheads  scurring  skin_peeling  silver_like_dusting  \\\n",
       "0           0         0             0                    0   \n",
       "1           0         0             0                    0   \n",
       "2           0         0             0                    0   \n",
       "3           0         0             0                    0   \n",
       "4           0         0             0                    0   \n",
       "\n",
       "   small_dents_in_nails  inflammatory_nails  blister  red_sore_around_nose  \\\n",
       "0                     0                   0        0                     0   \n",
       "1                     0                   0        0                     0   \n",
       "2                     0                   0        0                     0   \n",
       "3                     0                   0        0                     0   \n",
       "4                     0                   0        0                     0   \n",
       "\n",
       "   yellow_crust_ooze         prognosis  \n",
       "0                  0  Fungal infection  \n",
       "1                  0  Fungal infection  \n",
       "2                  0  Fungal infection  \n",
       "3                  0  Fungal infection  \n",
       "4                  0  Fungal infection  \n",
       "\n",
       "[5 rows x 133 columns]"
      ]
     },
     "execution_count": 6,
     "metadata": {},
     "output_type": "execute_result"
    }
   ],
   "source": [
    "df.head()"
   ]
  },
  {
   "cell_type": "code",
   "execution_count": 7,
   "id": "44fb9f44-9dc7-4c51-99ea-b053fe520772",
   "metadata": {},
   "outputs": [
    {
     "data": {
      "text/plain": [
       "array(['itching', 'skin_rash', 'nodal_skin_eruptions',\n",
       "       'continuous_sneezing', 'shivering', 'chills', 'joint_pain',\n",
       "       'stomach_pain', 'acidity', 'ulcers_on_tongue', 'muscle_wasting',\n",
       "       'vomiting', 'burning_micturition', 'spotting_ urination',\n",
       "       'fatigue', 'weight_gain', 'anxiety', 'cold_hands_and_feets',\n",
       "       'mood_swings', 'weight_loss', 'restlessness', 'lethargy',\n",
       "       'patches_in_throat', 'irregular_sugar_level', 'cough',\n",
       "       'high_fever', 'sunken_eyes', 'breathlessness', 'sweating',\n",
       "       'dehydration', 'indigestion', 'headache', 'yellowish_skin',\n",
       "       'dark_urine', 'nausea', 'loss_of_appetite', 'pain_behind_the_eyes',\n",
       "       'back_pain', 'constipation', 'abdominal_pain', 'diarrhoea',\n",
       "       'mild_fever', 'yellow_urine', 'yellowing_of_eyes',\n",
       "       'acute_liver_failure', 'fluid_overload', 'swelling_of_stomach',\n",
       "       'swelled_lymph_nodes', 'malaise', 'blurred_and_distorted_vision',\n",
       "       'phlegm', 'throat_irritation', 'redness_of_eyes', 'sinus_pressure',\n",
       "       'runny_nose', 'congestion', 'chest_pain', 'weakness_in_limbs',\n",
       "       'fast_heart_rate', 'pain_during_bowel_movements',\n",
       "       'pain_in_anal_region', 'bloody_stool', 'irritation_in_anus',\n",
       "       'neck_pain', 'dizziness', 'cramps', 'bruising', 'obesity',\n",
       "       'swollen_legs', 'swollen_blood_vessels', 'puffy_face_and_eyes',\n",
       "       'enlarged_thyroid', 'brittle_nails', 'swollen_extremeties',\n",
       "       'excessive_hunger', 'extra_marital_contacts',\n",
       "       'drying_and_tingling_lips', 'slurred_speech', 'knee_pain',\n",
       "       'hip_joint_pain', 'muscle_weakness', 'stiff_neck',\n",
       "       'swelling_joints', 'movement_stiffness', 'spinning_movements',\n",
       "       'loss_of_balance', 'unsteadiness', 'weakness_of_one_body_side',\n",
       "       'loss_of_smell', 'bladder_discomfort', 'foul_smell_of urine',\n",
       "       'continuous_feel_of_urine', 'passage_of_gases', 'internal_itching',\n",
       "       'toxic_look_(typhos)', 'depression', 'irritability', 'muscle_pain',\n",
       "       'altered_sensorium', 'red_spots_over_body', 'belly_pain',\n",
       "       'abnormal_menstruation', 'dischromic _patches',\n",
       "       'watering_from_eyes', 'increased_appetite', 'polyuria',\n",
       "       'family_history', 'mucoid_sputum', 'rusty_sputum',\n",
       "       'lack_of_concentration', 'visual_disturbances',\n",
       "       'receiving_blood_transfusion', 'receiving_unsterile_injections',\n",
       "       'coma', 'stomach_bleeding', 'distention_of_abdomen',\n",
       "       'history_of_alcohol_consumption', 'fluid_overload.1',\n",
       "       'blood_in_sputum', 'prominent_veins_on_calf', 'palpitations',\n",
       "       'painful_walking', 'pus_filled_pimples', 'blackheads', 'scurring',\n",
       "       'skin_peeling', 'silver_like_dusting', 'small_dents_in_nails',\n",
       "       'inflammatory_nails', 'blister', 'red_sore_around_nose',\n",
       "       'yellow_crust_ooze', 'prognosis'], dtype=object)"
      ]
     },
     "execution_count": 7,
     "metadata": {},
     "output_type": "execute_result"
    }
   ],
   "source": [
    "df.columns.values\n"
   ]
  },
  {
   "cell_type": "code",
   "execution_count": 6,
   "id": "549ed398-8dd4-4d8c-9e97-2b7bc1ea139b",
   "metadata": {},
   "outputs": [
    {
     "data": {
      "text/plain": [
       "(4920, 133)"
      ]
     },
     "execution_count": 6,
     "metadata": {},
     "output_type": "execute_result"
    }
   ],
   "source": [
    "df.shape\n"
   ]
  },
  {
   "cell_type": "code",
   "execution_count": 8,
   "id": "4c38cb8b-b39e-4249-98c7-382cee2f1840",
   "metadata": {},
   "outputs": [
    {
     "data": {
      "text/plain": [
       "41"
      ]
     },
     "execution_count": 8,
     "metadata": {},
     "output_type": "execute_result"
    }
   ],
   "source": [
    "len(df['prognosis'].unique())"
   ]
  },
  {
   "cell_type": "code",
   "execution_count": 9,
   "id": "55400455-7c5f-4795-97d3-93cffac214fa",
   "metadata": {},
   "outputs": [
    {
     "data": {
      "text/plain": [
       "array(['Fungal infection', 'Allergy', 'GERD', 'Chronic cholestasis',\n",
       "       'Drug Reaction', 'Peptic ulcer diseae', 'AIDS', 'Diabetes ',\n",
       "       'Gastroenteritis', 'Bronchial Asthma', 'Hypertension ', 'Migraine',\n",
       "       'Cervical spondylosis', 'Paralysis (brain hemorrhage)', 'Jaundice',\n",
       "       'Malaria', 'Chicken pox', 'Dengue', 'Typhoid', 'hepatitis A',\n",
       "       'Hepatitis B', 'Hepatitis C', 'Hepatitis D', 'Hepatitis E',\n",
       "       'Alcoholic hepatitis', 'Tuberculosis', 'Common Cold', 'Pneumonia',\n",
       "       'Dimorphic hemmorhoids(piles)', 'Heart attack', 'Varicose veins',\n",
       "       'Hypothyroidism', 'Hyperthyroidism', 'Hypoglycemia',\n",
       "       'Osteoarthristis', 'Arthritis',\n",
       "       '(vertigo) Paroymsal  Positional Vertigo', 'Acne',\n",
       "       'Urinary tract infection', 'Psoriasis', 'Impetigo'], dtype=object)"
      ]
     },
     "execution_count": 9,
     "metadata": {},
     "output_type": "execute_result"
    }
   ],
   "source": [
    "df['prognosis'].unique()"
   ]
  },
  {
   "cell_type": "code",
   "execution_count": 10,
   "id": "20044d42-2816-4edc-ab83-626833d9bfae",
   "metadata": {},
   "outputs": [
    {
     "data": {
      "text/plain": [
       "itching                 0\n",
       "skin_rash               0\n",
       "nodal_skin_eruptions    0\n",
       "continuous_sneezing     0\n",
       "shivering               0\n",
       "                       ..\n",
       "inflammatory_nails      0\n",
       "blister                 0\n",
       "red_sore_around_nose    0\n",
       "yellow_crust_ooze       0\n",
       "prognosis               0\n",
       "Length: 133, dtype: int64"
      ]
     },
     "execution_count": 10,
     "metadata": {},
     "output_type": "execute_result"
    }
   ],
   "source": [
    "df.isnull().sum()"
   ]
  },
  {
   "cell_type": "code",
   "execution_count": 11,
   "id": "a7531d41-2efc-414c-9e29-53395df1875a",
   "metadata": {},
   "outputs": [],
   "source": [
    "from sklearn.model_selection import train_test_split\n",
    "from sklearn.preprocessing import LabelEncoder\n",
    "\n",
    "x= df.drop(\"prognosis\",axis=1)\n",
    "y = df[\"prognosis\"]"
   ]
  },
  {
   "cell_type": "code",
   "execution_count": 12,
   "id": "2af261ae-dd8a-4747-9ebf-7f56cf878cc6",
   "metadata": {},
   "outputs": [],
   "source": [
    "le = LabelEncoder()\n",
    "le.fit(y)\n",
    "y_trans = le.transform(y)"
   ]
  },
  {
   "cell_type": "code",
   "execution_count": 62,
   "id": "711de4d6-7a92-4068-9701-6cb2ea7c355b",
   "metadata": {},
   "outputs": [
    {
     "data": {
      "text/plain": [
       "4"
      ]
     },
     "execution_count": 62,
     "metadata": {},
     "output_type": "execute_result"
    }
   ],
   "source": []
  },
  {
   "cell_type": "code",
   "execution_count": 13,
   "id": "a692a2aa-41c5-494c-ae6b-3b6b8f739116",
   "metadata": {},
   "outputs": [],
   "source": [
    "x_train,x_test,y_train,y_test = train_test_split(x,y_trans,test_size=0.2,random_state=20)"
   ]
  },
  {
   "cell_type": "code",
   "execution_count": 14,
   "id": "9d6c8f96-5ae4-446e-ba14-15035e10e445",
   "metadata": {},
   "outputs": [],
   "source": [
    "from sklearn.datasets import make_classification\n",
    "from sklearn.svm import SVC\n",
    "from sklearn.ensemble import RandomForestClassifier,GradientBoostingClassifier\n",
    "from sklearn.neighbors import KNeighborsClassifier\n",
    "from sklearn.naive_bayes import MultinomialNB\n",
    "\n",
    "from sklearn.metrics import accuracy_score,confusion_matrix\n",
    "import numpy as np"
   ]
  },
  {
   "cell_type": "code",
   "execution_count": 15,
   "id": "91c5e172-d986-4f2e-98ea-e9098a744672",
   "metadata": {},
   "outputs": [
    {
     "name": "stdout",
     "output_type": "stream",
     "text": [
      "SVC accuracy: 1.0\n",
      "SVC confusion_matrix :\n",
      "[[24, 0, 0,..., 0, 0, 0],\n",
      " [ 0,27, 0,..., 0, 0, 0],\n",
      " [ 0, 0,18,..., 0, 0, 0],\n",
      " ...,\n",
      " [ 0, 0, 0,...,24, 0, 0],\n",
      " [ 0, 0, 0,..., 0,33, 0],\n",
      " [ 0, 0, 0,..., 0, 0,22]]\n",
      "RandomForest accuracy: 1.0\n",
      "RandomForest confusion_matrix :\n",
      "[[24, 0, 0,..., 0, 0, 0],\n",
      " [ 0,27, 0,..., 0, 0, 0],\n",
      " [ 0, 0,18,..., 0, 0, 0],\n",
      " ...,\n",
      " [ 0, 0, 0,...,24, 0, 0],\n",
      " [ 0, 0, 0,..., 0,33, 0],\n",
      " [ 0, 0, 0,..., 0, 0,22]]\n",
      "GradientBoosting accuracy: 1.0\n",
      "GradientBoosting confusion_matrix :\n",
      "[[24, 0, 0,..., 0, 0, 0],\n",
      " [ 0,27, 0,..., 0, 0, 0],\n",
      " [ 0, 0,18,..., 0, 0, 0],\n",
      " ...,\n",
      " [ 0, 0, 0,...,24, 0, 0],\n",
      " [ 0, 0, 0,..., 0,33, 0],\n",
      " [ 0, 0, 0,..., 0, 0,22]]\n",
      "KNeighbors accuracy: 1.0\n",
      "KNeighbors confusion_matrix :\n",
      "[[24, 0, 0,..., 0, 0, 0],\n",
      " [ 0,27, 0,..., 0, 0, 0],\n",
      " [ 0, 0,18,..., 0, 0, 0],\n",
      " ...,\n",
      " [ 0, 0, 0,...,24, 0, 0],\n",
      " [ 0, 0, 0,..., 0,33, 0],\n",
      " [ 0, 0, 0,..., 0, 0,22]]\n",
      "MultinomialNB accuracy: 1.0\n",
      "MultinomialNB confusion_matrix :\n",
      "[[24, 0, 0,..., 0, 0, 0],\n",
      " [ 0,27, 0,..., 0, 0, 0],\n",
      " [ 0, 0,18,..., 0, 0, 0],\n",
      " ...,\n",
      " [ 0, 0, 0,...,24, 0, 0],\n",
      " [ 0, 0, 0,..., 0,33, 0],\n",
      " [ 0, 0, 0,..., 0, 0,22]]\n"
     ]
    }
   ],
   "source": [
    "#creating a dictionary to store models\n",
    "\n",
    "models = {\n",
    "    \"SVC\":SVC(kernel='linear'),\n",
    "    \"RandomForest\":RandomForestClassifier(n_estimators=100,random_state=42),\n",
    "    \"GradientBoosting\":GradientBoostingClassifier(n_estimators=100,random_state=42),\n",
    "    \"KNeighbors\":KNeighborsClassifier(n_neighbors=5),\n",
    "    \"MultinomialNB\":MultinomialNB()\n",
    "    \n",
    "}\n",
    "\n",
    "\n",
    "for model_name,model in models.items():\n",
    "    #train model\n",
    "   \n",
    "    model.fit(x_train,y_train)\n",
    "    y_pred = model.predict(x_test)\n",
    "\n",
    "    accuracy = accuracy_score(y_test,y_pred)\n",
    "    cm = confusion_matrix(y_test,y_pred)\n",
    "\n",
    "    print(f\"{model_name} accuracy: {accuracy}\");\n",
    "    print(f\"{model_name} confusion_matrix :\")\n",
    "    print(np.array2string(cm,separator=','))\n",
    "    \n",
    "    "
   ]
  },
  {
   "cell_type": "code",
   "execution_count": 16,
   "id": "66754b08-874f-4711-89cf-c2423fa60375",
   "metadata": {},
   "outputs": [
    {
     "data": {
      "text/plain": [
       "1.0"
      ]
     },
     "execution_count": 16,
     "metadata": {},
     "output_type": "execute_result"
    }
   ],
   "source": [
    "svc = SVC(kernel='linear')\n",
    "svc.fit(x_train,y_train)\n",
    "y_pred = svc.predict(x_test)\n",
    "accuracy_score(y_test,y_pred)"
   ]
  },
  {
   "cell_type": "code",
   "execution_count": 4,
   "id": "a8c0b5f0-b430-4ab5-b438-f733e21bace6",
   "metadata": {},
   "outputs": [],
   "source": [
    "import pickle\n",
    "# pickle.dump(svc,open(\"models/svc.pkl\",'wb'))"
   ]
  },
  {
   "cell_type": "code",
   "execution_count": 5,
   "id": "9dbebdfb-15c5-4de2-82e5-479c3d35a0c1",
   "metadata": {},
   "outputs": [],
   "source": [
    "svc = pickle.load(open(\"models/svc.pkl\",'rb'))"
   ]
  },
  {
   "cell_type": "code",
   "execution_count": 6,
   "id": "be2143c2-b408-47bf-ab03-cd6290631995",
   "metadata": {},
   "outputs": [
    {
     "ename": "NameError",
     "evalue": "name 'x_test' is not defined",
     "output_type": "error",
     "traceback": [
      "\u001b[1;31m---------------------------------------------------------------------------\u001b[0m",
      "\u001b[1;31mNameError\u001b[0m                                 Traceback (most recent call last)",
      "Cell \u001b[1;32mIn[6], line 1\u001b[0m\n\u001b[1;32m----> 1\u001b[0m \u001b[38;5;28mprint\u001b[39m(\u001b[38;5;124m\"\u001b[39m\u001b[38;5;124mpredicted label :\u001b[39m\u001b[38;5;124m\"\u001b[39m,svc\u001b[38;5;241m.\u001b[39mpredict(\u001b[43mx_test\u001b[49m\u001b[38;5;241m.\u001b[39miloc[\u001b[38;5;241m10\u001b[39m]\u001b[38;5;241m.\u001b[39mvalues\u001b[38;5;241m.\u001b[39mreshape(\u001b[38;5;241m1\u001b[39m,\u001b[38;5;241m-\u001b[39m\u001b[38;5;241m1\u001b[39m)))\n\u001b[0;32m      2\u001b[0m \u001b[38;5;28mprint\u001b[39m(\u001b[38;5;124m\"\u001b[39m\u001b[38;5;124mactual label :\u001b[39m\u001b[38;5;124m\"\u001b[39m , y_test[\u001b[38;5;241m10\u001b[39m])\n",
      "\u001b[1;31mNameError\u001b[0m: name 'x_test' is not defined"
     ]
    }
   ],
   "source": [
    "print(\"predicted label :\",svc.predict(x_test.iloc[10].values.reshape(1,-1)))\n",
    "print(\"actual label :\" , y_test[10])"
   ]
  },
  {
   "cell_type": "code",
   "execution_count": 7,
   "id": "e071a74e-c203-442a-8376-78afd28cda85",
   "metadata": {},
   "outputs": [],
   "source": [
    "sym_des = pd.read_csv('Dataset/symtoms_df.csv')\n",
    "precautions = pd.read_csv('Dataset/precautions_df.csv')\n",
    "workout = pd.read_csv(\"Dataset/workout_df.csv\")\n",
    "description = pd.read_csv(\"Dataset/description.csv\")\n",
    "medications = pd.read_csv(\"Dataset/medications.csv\")\n",
    "diets = pd.read_csv(\"Dataset/diets.csv\")"
   ]
  },
  {
   "cell_type": "code",
   "execution_count": 8,
   "id": "c32e331e-366c-435c-b223-962b69bde103",
   "metadata": {},
   "outputs": [
    {
     "data": {
      "text/html": [
       "<div>\n",
       "<style scoped>\n",
       "    .dataframe tbody tr th:only-of-type {\n",
       "        vertical-align: middle;\n",
       "    }\n",
       "\n",
       "    .dataframe tbody tr th {\n",
       "        vertical-align: top;\n",
       "    }\n",
       "\n",
       "    .dataframe thead th {\n",
       "        text-align: right;\n",
       "    }\n",
       "</style>\n",
       "<table border=\"1\" class=\"dataframe\">\n",
       "  <thead>\n",
       "    <tr style=\"text-align: right;\">\n",
       "      <th></th>\n",
       "      <th>Disease</th>\n",
       "      <th>Medication</th>\n",
       "    </tr>\n",
       "  </thead>\n",
       "  <tbody>\n",
       "    <tr>\n",
       "      <th>0</th>\n",
       "      <td>Fungal infection</td>\n",
       "      <td>['Antifungal Cream', 'Fluconazole', 'Terbinafi...</td>\n",
       "    </tr>\n",
       "    <tr>\n",
       "      <th>1</th>\n",
       "      <td>Allergy</td>\n",
       "      <td>['Antihistamines', 'Decongestants', 'Epinephri...</td>\n",
       "    </tr>\n",
       "    <tr>\n",
       "      <th>2</th>\n",
       "      <td>GERD</td>\n",
       "      <td>['Proton Pump Inhibitors (PPIs)', 'H2 Blockers...</td>\n",
       "    </tr>\n",
       "    <tr>\n",
       "      <th>3</th>\n",
       "      <td>Chronic cholestasis</td>\n",
       "      <td>['Ursodeoxycholic acid', 'Cholestyramine', 'Me...</td>\n",
       "    </tr>\n",
       "    <tr>\n",
       "      <th>4</th>\n",
       "      <td>Drug Reaction</td>\n",
       "      <td>['Antihistamines', 'Epinephrine', 'Corticoster...</td>\n",
       "    </tr>\n",
       "  </tbody>\n",
       "</table>\n",
       "</div>"
      ],
      "text/plain": [
       "               Disease                                         Medication\n",
       "0     Fungal infection  ['Antifungal Cream', 'Fluconazole', 'Terbinafi...\n",
       "1              Allergy  ['Antihistamines', 'Decongestants', 'Epinephri...\n",
       "2                 GERD  ['Proton Pump Inhibitors (PPIs)', 'H2 Blockers...\n",
       "3  Chronic cholestasis  ['Ursodeoxycholic acid', 'Cholestyramine', 'Me...\n",
       "4        Drug Reaction  ['Antihistamines', 'Epinephrine', 'Corticoster..."
      ]
     },
     "execution_count": 8,
     "metadata": {},
     "output_type": "execute_result"
    }
   ],
   "source": [
    "medications.head()"
   ]
  },
  {
   "cell_type": "code",
   "execution_count": 22,
   "id": "f15c7295-6dc7-4a22-8696-853ca2519f7e",
   "metadata": {},
   "outputs": [
    {
     "data": {
      "text/html": [
       "<div>\n",
       "<style scoped>\n",
       "    .dataframe tbody tr th:only-of-type {\n",
       "        vertical-align: middle;\n",
       "    }\n",
       "\n",
       "    .dataframe tbody tr th {\n",
       "        vertical-align: top;\n",
       "    }\n",
       "\n",
       "    .dataframe thead th {\n",
       "        text-align: right;\n",
       "    }\n",
       "</style>\n",
       "<table border=\"1\" class=\"dataframe\">\n",
       "  <thead>\n",
       "    <tr style=\"text-align: right;\">\n",
       "      <th></th>\n",
       "      <th>Disease</th>\n",
       "      <th>Diet</th>\n",
       "    </tr>\n",
       "  </thead>\n",
       "  <tbody>\n",
       "    <tr>\n",
       "      <th>0</th>\n",
       "      <td>Fungal infection</td>\n",
       "      <td>['Antifungal Diet', 'Probiotics', 'Garlic', 'C...</td>\n",
       "    </tr>\n",
       "    <tr>\n",
       "      <th>1</th>\n",
       "      <td>Allergy</td>\n",
       "      <td>['Elimination Diet', 'Omega-3-rich foods', 'Vi...</td>\n",
       "    </tr>\n",
       "    <tr>\n",
       "      <th>2</th>\n",
       "      <td>GERD</td>\n",
       "      <td>['Low-Acid Diet', 'Fiber-rich foods', 'Ginger'...</td>\n",
       "    </tr>\n",
       "    <tr>\n",
       "      <th>3</th>\n",
       "      <td>Chronic cholestasis</td>\n",
       "      <td>['Low-Fat Diet', 'High-Fiber Diet', 'Lean prot...</td>\n",
       "    </tr>\n",
       "    <tr>\n",
       "      <th>4</th>\n",
       "      <td>Drug Reaction</td>\n",
       "      <td>['Antihistamine Diet', 'Omega-3-rich foods', '...</td>\n",
       "    </tr>\n",
       "  </tbody>\n",
       "</table>\n",
       "</div>"
      ],
      "text/plain": [
       "               Disease                                               Diet\n",
       "0     Fungal infection  ['Antifungal Diet', 'Probiotics', 'Garlic', 'C...\n",
       "1              Allergy  ['Elimination Diet', 'Omega-3-rich foods', 'Vi...\n",
       "2                 GERD  ['Low-Acid Diet', 'Fiber-rich foods', 'Ginger'...\n",
       "3  Chronic cholestasis  ['Low-Fat Diet', 'High-Fiber Diet', 'Lean prot...\n",
       "4        Drug Reaction  ['Antihistamine Diet', 'Omega-3-rich foods', '..."
      ]
     },
     "execution_count": 22,
     "metadata": {},
     "output_type": "execute_result"
    }
   ],
   "source": [
    "diets.head()"
   ]
  },
  {
   "cell_type": "code",
   "execution_count": 9,
   "id": "a0c2c6b1-35c3-43b4-8693-848fe26f472e",
   "metadata": {},
   "outputs": [],
   "source": [
    "symptoms_dict = {'itching':0,'skin_rash':1,'nodal_skin_eruptions':2,'continuous_sneezing':3,'shivering':4,'chills':5,'joint_pain':6,'stomach_pain':7,'acidity':8,'ulcers_on_tongue':9,'muscle_wasting':10,'vomiting':11, 'burning_micturition':12, 'spotting_urination':13, 'fatigue':14, 'weight_gain':15, 'anxiety':16,'cold_hands_and_feets':17, 'mood_swings':18, 'weight_loss':19,'restlessness':20,'lethargy':21,'patches_in_throat':22, 'irregular_sugar_level':23, 'cough':24,'high_fever':25, 'sunken_eyes':26, 'breathlessness':27, 'sweating':28, 'dehydration' : 29, 'indigestion':30, 'headache':31, 'yellowish_skin':32,'dark_urine':33, 'nausea':34, 'loss_of_appetite':35, 'pain_behind_the_eyes':36,\n",
    "       'back_pain':37, 'constipation':38, 'abdominal_pain':39, 'diarrhoea':40,\n",
    "       'mild_fever':41, 'yellow_urine':42, 'yellowing_of_eyes':43,\n",
    "       'acute_liver_failure':44, 'fluid_overload':45, 'swelling_of_stomach':46,\n",
    "       'swelled_lymph_nodes':47, 'malaise':48, 'blurred_and_distorted_vision':49,\n",
    "       'phlegm':50, 'throat_irritation':51, 'redness_of_eyes':52, 'sinus_pressure':53,\n",
    "       'runny_nose':54, 'congestion':55, 'chest_pain':56, 'weakness_in_limbs':57,\n",
    "       'fast_heart_rate':58, 'pain_during_bowel_movements':59,\n",
    "       'pain_in_anal_region':60, 'bloody_stool':61, 'irritation_in_anus':62,\n",
    "       'neck_pain':63, 'dizziness':64, 'cramps':65, 'bruising':66, 'obesity':67,\n",
    "       'swollen_legs':68, 'swollen_blood_vessels':69, 'puffy_face_and_eyes':70,\n",
    "       'enlarged_thyroid':71, 'brittle_nails':72, 'swollen_extremeties':73,\n",
    "       'excessive_hunger':74, 'extra_marital_contacts':75,\n",
    "       'drying_and_tingling_lips':76, 'slurred_speech':77, 'knee_pain':78,\n",
    "       'hip_joint_pain':79, 'muscle_weakness':80, 'stiff_neck':81,\n",
    "       'swelling_joints':82, 'movement_stiffness':83, 'spinning_movements':84,\n",
    "       'loss_of_balance':85, 'unsteadiness':86, 'weakness_of_one_body_side':87,\n",
    "       'loss_of_smell':88, 'bladder_discomfort':89, 'foul_smell_of urine':90,\n",
    "       'continuous_feel_of_urine':91, 'passage_of_gases':92, 'internal_itching':93,\n",
    "       'toxic_look_(typhos)':94, 'depression':95, 'irritability':96, 'muscle_pain':97,\n",
    "       'altered_sensorium':98, 'red_spots_over_body':99, 'belly_pain':100,\n",
    "       'abnormal_menstruation':101, 'dischromic _patches':102,\n",
    "       'watering_from_eyes':103, 'increased_appetite':104, 'polyuria':105,\n",
    "       'family_history':106, 'mucoid_sputum':107, 'rusty_sputum':108,\n",
    "       'lack_of_concentration':109, 'visual_disturbances':110,\n",
    "       'receiving_blood_transfusion':111, 'receiving_unsterile_injections':112,\n",
    "       'coma':113, 'stomach_bleeding':114, 'distention_of_abdomen':115,\n",
    "       'history_of_alcohol_consumption':116, 'fluid_overload.1':117,\n",
    "       'blood_in_sputum':118, 'prominent_veins_on_calf':119, 'palpitations':120,\n",
    "       'painful_walking':121, 'pus_filled_pimples':122, 'blackheads':123, 'scurring':124,\n",
    "       'skin_peeling':125, 'silver_like_dusting':126, 'small_dents_in_nails':127,\n",
    "       'inflammatory_nails':128, 'blister':129, 'red_sore_around_nose':130,\n",
    "       'yellow_crust_ooze':131}\n",
    "\n",
    "diseases_list = {\n",
    "    0: '(vertigo) Paroymsal Positional Vertigo',\n",
    "    1: 'AIDS',\n",
    "    2: 'Acne',\n",
    "    3: 'Alcoholic hepatitis',\n",
    "    4: 'Allergy',\n",
    "    5: 'Arthritis',\n",
    "    6: 'Bronchial Asthma',\n",
    "    7: 'Cervical spondylosis',\n",
    "    8: 'Chicken pox',\n",
    "    9: 'Chronic cholestasis',\n",
    "    10: 'Common Cold',\n",
    "    11: 'Dengue',\n",
    "    12: 'Diabetes',\n",
    "    13: 'Dimorphic hemmorhoids(piles)',\n",
    "    14: 'Drug Reaction',\n",
    "    15: 'Fungal infection',\n",
    "    16: 'GERD',\n",
    "    17: 'Gastroenteritis',\n",
    "    18: 'Heart attack',\n",
    "    19: 'Hepatitis B',\n",
    "    20: 'Hepatitis C',\n",
    "    21: 'Hepatitis D',\n",
    "    22: 'Hepatitis E',\n",
    "    23: 'Hypertension',\n",
    "    24: 'Hyperthyroidism',\n",
    "    25: 'Hypoglycemia',\n",
    "    26: 'Hypothyroidism',\n",
    "    27: 'Impetigo',\n",
    "    28: 'Jaundice',\n",
    "    29: 'Malaria',\n",
    "    30: 'Migraine',\n",
    "    31: 'Osteoarthristis',\n",
    "    32: 'Paralysis (brain hemorrhage)',\n",
    "    33: 'Peptic ulcer disease',\n",
    "    34: 'Pneumonia',\n",
    "    35: 'Psoriasis',\n",
    "    36: 'Tuberculosis',\n",
    "    37: 'Typhoid',\n",
    "    38: 'Urinary tract infection',\n",
    "    39: 'Varicose veins',\n",
    "    40: 'Hepatitis A'\n",
    "}"
   ]
  },
  {
   "cell_type": "code",
   "execution_count": 10,
   "id": "2d2fbc15-bd2d-4948-b4d5-60b1e7d48dba",
   "metadata": {},
   "outputs": [],
   "source": [
    "import numpy as np\n",
    "def get_predicted_values(patient_symptoms):\n",
    "    input_ = np.zeros(len(symptoms_dict))\n",
    "\n",
    "    for item in patient_symptoms:\n",
    "        input_[symptoms_dict[item]] = 1\n",
    "    return diseases_list[svc.predict([input_])[0]]\n",
    "        \n",
    "    "
   ]
  },
  {
   "cell_type": "code",
   "execution_count": 11,
   "id": "31763e80-d5d0-4aa2-8e60-a96b2da167f4",
   "metadata": {},
   "outputs": [],
   "source": [
    "def helper(pdisease):\n",
    "    descr = description[description['Disease'] == pdisease]['Description']\n",
    "    descr = \" \".join([w for w in descr])\n",
    "    \n",
    "    prec = precautions[precautions['Disease']==pdisease][['Precaution_1','Precaution_2','Precaution_3','Precaution_4']]\n",
    "    prec = [col for col in prec.values]\n",
    "\n",
    "    med = medications[medications['Disease'] == pdisease]['Medication']\n",
    "    med = [med for med in med.values]\n",
    "\n",
    "    diet = diets[diets['Disease'] == pdisease]['Diet']\n",
    "    diet = [die for die in diet.values]\n",
    "\n",
    "    wrkout = workout[workout['disease'] == pdisease]['workout']\n",
    "    wrkout = [w for w in wrkout.values]\n",
    "    return descr,prec,med,diet,wrkout\n",
    "    "
   ]
  },
  {
   "cell_type": "code",
   "execution_count": 12,
   "id": "1a455462-3f2d-4613-8232-ea15a7cb5be4",
   "metadata": {},
   "outputs": [
    {
     "name": "stdin",
     "output_type": "stream",
     "text": [
      "Enter your symptoms......  excessive_hunger,extra_marital_contacts,drying_and_tingling_lips, slurred_speech\n"
     ]
    }
   ],
   "source": [
    "symptoms = input(\"Enter your symptoms...... \")\n",
    "user_symp = [s.strip() for s in symptoms.split(',')]\n"
   ]
  },
  {
   "cell_type": "code",
   "execution_count": 13,
   "id": "71d5535e-2fb1-4677-a0d5-f798608446fa",
   "metadata": {},
   "outputs": [
    {
     "name": "stdout",
     "output_type": "stream",
     "text": [
      "=============================predicted Disease============================\n"
     ]
    },
    {
     "ename": "NameError",
     "evalue": "name 'np' is not defined",
     "output_type": "error",
     "traceback": [
      "\u001b[1;31m---------------------------------------------------------------------------\u001b[0m",
      "\u001b[1;31mNameError\u001b[0m                                 Traceback (most recent call last)",
      "Cell \u001b[1;32mIn[13], line 2\u001b[0m\n\u001b[0;32m      1\u001b[0m \u001b[38;5;28mprint\u001b[39m(\u001b[38;5;124m\"\u001b[39m\u001b[38;5;124m=============================predicted Disease============================\u001b[39m\u001b[38;5;124m\"\u001b[39m)\n\u001b[1;32m----> 2\u001b[0m disease_predict \u001b[38;5;241m=\u001b[39m \u001b[43mget_predicted_values\u001b[49m\u001b[43m(\u001b[49m\u001b[43muser_symp\u001b[49m\u001b[43m)\u001b[49m\n\u001b[0;32m      3\u001b[0m \u001b[38;5;28mprint\u001b[39m(disease_predict)\n",
      "Cell \u001b[1;32mIn[10], line 2\u001b[0m, in \u001b[0;36mget_predicted_values\u001b[1;34m(patient_symptoms)\u001b[0m\n\u001b[0;32m      1\u001b[0m \u001b[38;5;28;01mdef\u001b[39;00m \u001b[38;5;21mget_predicted_values\u001b[39m(patient_symptoms):\n\u001b[1;32m----> 2\u001b[0m     input_ \u001b[38;5;241m=\u001b[39m \u001b[43mnp\u001b[49m\u001b[38;5;241m.\u001b[39mzeros(\u001b[38;5;28mlen\u001b[39m(symptoms_dict))\n\u001b[0;32m      4\u001b[0m     \u001b[38;5;28;01mfor\u001b[39;00m item \u001b[38;5;129;01min\u001b[39;00m patient_symptoms:\n\u001b[0;32m      5\u001b[0m         input_[symptoms_dict[item]] \u001b[38;5;241m=\u001b[39m \u001b[38;5;241m1\u001b[39m\n",
      "\u001b[1;31mNameError\u001b[0m: name 'np' is not defined"
     ]
    }
   ],
   "source": [
    "print(\"=============================predicted Disease============================\")\n",
    "disease_predict = get_predicted_values(user_symp)\n",
    "print(disease_predict)"
   ]
  },
  {
   "cell_type": "code",
   "execution_count": 38,
   "id": "8e0e2ff0-7dbd-46a4-9ef8-9298c198eb16",
   "metadata": {},
   "outputs": [],
   "source": [
    "desc,prec,med,diet,wrkout = helper(disease_predict)"
   ]
  },
  {
   "cell_type": "code",
   "execution_count": 52,
   "id": "f26776dc-4490-4eb4-9af0-41bbc676a22c",
   "metadata": {},
   "outputs": [
    {
     "name": "stdout",
     "output_type": "stream",
     "text": [
      "================Description==================================\n",
      "\n",
      "Drug Reaction occurs when the body reacts adversely to a medication.\n",
      "\n",
      "================Precaution===================================\n",
      "\n",
      "['stop irritation' 'consult nearest hospital' 'stop taking drug'\n",
      " 'follow up']\n",
      "\n",
      "==================medication=================================\n",
      "\n",
      "['Antihistamines', 'Epinephrine', 'Corticosteroids', 'Antibiotics', 'Antifungal Cream']\n",
      "\n",
      "==================diet========================================\n",
      "\n",
      "['Antihistamine Diet', 'Omega-3-rich foods', 'Vitamin C-rich foods', 'Quercetin-rich foods', 'Probiotics']\n"
     ]
    }
   ],
   "source": [
    "print(\"================Description==================================\\n\")\n",
    "print(desc)\n",
    "print(\"\\n================Precaution===================================\\n\")\n",
    "print(prec[0])\n",
    "print(\"\\n==================medication=================================\\n\")\n",
    "print(med[0])\n",
    "print(\"\\n==================diet========================================\\n\")\n",
    "print(diet[0])"
   ]
  },
  {
   "cell_type": "code",
   "execution_count": null,
   "id": "6b909e28-ea4e-478a-b8ae-8736b460c160",
   "metadata": {},
   "outputs": [],
   "source": []
  }
 ],
 "metadata": {
  "kernelspec": {
   "display_name": "Python 3 (ipykernel)",
   "language": "python",
   "name": "python3"
  },
  "language_info": {
   "codemirror_mode": {
    "name": "ipython",
    "version": 3
   },
   "file_extension": ".py",
   "mimetype": "text/x-python",
   "name": "python",
   "nbconvert_exporter": "python",
   "pygments_lexer": "ipython3",
   "version": "3.12.4"
  }
 },
 "nbformat": 4,
 "nbformat_minor": 5
}
